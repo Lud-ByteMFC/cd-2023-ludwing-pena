{
  "cells": [
    {
      "cell_type": "code",
      "execution_count": null,
      "metadata": {
        "colab": {
          "base_uri": "https://localhost:8080/"
        },
        "id": "K9p2iQCYoA_V",
        "outputId": "4ca6e0ec-92b4-40b4-b7b9-fc7cc29cf0c7"
      },
      "outputs": [
        {
          "output_type": "stream",
          "name": "stdout",
          "text": [
            "Looking in indexes: https://pypi.org/simple, https://us-python.pkg.dev/colab-wheels/public/simple/\n",
            "Collecting pyproj\n",
            "  Downloading pyproj-3.4.1-cp39-cp39-manylinux_2_17_x86_64.manylinux2014_x86_64.whl (7.7 MB)\n",
            "\u001b[2K     \u001b[90m━━━━━━━━━━━━━━━━━━━━━━━━━━━━━━━━━━━━━━━━\u001b[0m \u001b[32m7.7/7.7 MB\u001b[0m \u001b[31m28.3 MB/s\u001b[0m eta \u001b[36m0:00:00\u001b[0m\n",
            "\u001b[?25hRequirement already satisfied: certifi in /usr/local/lib/python3.9/dist-packages (from pyproj) (2022.12.7)\n",
            "Installing collected packages: pyproj\n",
            "Successfully installed pyproj-3.4.1\n"
          ]
        }
      ],
      "source": [
        "!pip install pyproj"
      ]
    },
    {
      "cell_type": "code",
      "execution_count": null,
      "metadata": {
        "colab": {
          "base_uri": "https://localhost:8080/"
        },
        "id": "Bdxj39A3oDGp",
        "outputId": "2d75b913-e617-4b85-f133-7be3db8a025a"
      },
      "outputs": [
        {
          "output_type": "stream",
          "name": "stdout",
          "text": [
            "Looking in indexes: https://pypi.org/simple, https://us-python.pkg.dev/colab-wheels/public/simple/\n",
            "Collecting geopandas\n",
            "  Downloading geopandas-0.12.2-py3-none-any.whl (1.1 MB)\n",
            "\u001b[2K     \u001b[90m━━━━━━━━━━━━━━━━━━━━━━━━━━━━━━━━━━━━━━━━\u001b[0m \u001b[32m1.1/1.1 MB\u001b[0m \u001b[31m12.1 MB/s\u001b[0m eta \u001b[36m0:00:00\u001b[0m\n",
            "\u001b[?25hRequirement already satisfied: shapely>=1.7 in /usr/local/lib/python3.9/dist-packages (from geopandas) (2.0.1)\n",
            "Requirement already satisfied: pandas>=1.0.0 in /usr/local/lib/python3.9/dist-packages (from geopandas) (1.4.4)\n",
            "Requirement already satisfied: pyproj>=2.6.1.post1 in /usr/local/lib/python3.9/dist-packages (from geopandas) (3.4.1)\n",
            "Collecting fiona>=1.8\n",
            "  Downloading Fiona-1.9.2-cp39-cp39-manylinux_2_17_x86_64.manylinux2014_x86_64.whl (16.1 MB)\n",
            "\u001b[2K     \u001b[90m━━━━━━━━━━━━━━━━━━━━━━━━━━━━━━━━━━━━━━━━\u001b[0m \u001b[32m16.1/16.1 MB\u001b[0m \u001b[31m32.2 MB/s\u001b[0m eta \u001b[36m0:00:00\u001b[0m\n",
            "\u001b[?25hRequirement already satisfied: packaging in /usr/local/lib/python3.9/dist-packages (from geopandas) (23.0)\n",
            "Collecting munch>=2.3.2\n",
            "  Downloading munch-2.5.0-py2.py3-none-any.whl (10 kB)\n",
            "Requirement already satisfied: importlib-metadata in /usr/local/lib/python3.9/dist-packages (from fiona>=1.8->geopandas) (6.1.0)\n",
            "Collecting click-plugins>=1.0\n",
            "  Downloading click_plugins-1.1.1-py2.py3-none-any.whl (7.5 kB)\n",
            "Requirement already satisfied: attrs>=19.2.0 in /usr/local/lib/python3.9/dist-packages (from fiona>=1.8->geopandas) (22.2.0)\n",
            "Requirement already satisfied: certifi in /usr/local/lib/python3.9/dist-packages (from fiona>=1.8->geopandas) (2022.12.7)\n",
            "Requirement already satisfied: click~=8.0 in /usr/local/lib/python3.9/dist-packages (from fiona>=1.8->geopandas) (8.1.3)\n",
            "Collecting cligj>=0.5\n",
            "  Downloading cligj-0.7.2-py3-none-any.whl (7.1 kB)\n",
            "Requirement already satisfied: python-dateutil>=2.8.1 in /usr/local/lib/python3.9/dist-packages (from pandas>=1.0.0->geopandas) (2.8.2)\n",
            "Requirement already satisfied: numpy>=1.18.5 in /usr/local/lib/python3.9/dist-packages (from pandas>=1.0.0->geopandas) (1.22.4)\n",
            "Requirement already satisfied: pytz>=2020.1 in /usr/local/lib/python3.9/dist-packages (from pandas>=1.0.0->geopandas) (2022.7.1)\n",
            "Requirement already satisfied: six in /usr/local/lib/python3.9/dist-packages (from munch>=2.3.2->fiona>=1.8->geopandas) (1.16.0)\n",
            "Requirement already satisfied: zipp>=0.5 in /usr/local/lib/python3.9/dist-packages (from importlib-metadata->fiona>=1.8->geopandas) (3.15.0)\n",
            "Installing collected packages: munch, cligj, click-plugins, fiona, geopandas\n",
            "Successfully installed click-plugins-1.1.1 cligj-0.7.2 fiona-1.9.2 geopandas-0.12.2 munch-2.5.0\n"
          ]
        }
      ],
      "source": [
        "!pip install geopandas"
      ]
    },
    {
      "cell_type": "code",
      "execution_count": null,
      "metadata": {
        "colab": {
          "base_uri": "https://localhost:8080/",
          "height": 1000
        },
        "id": "1edZOWVbok76",
        "outputId": "08bfba4f-2dbf-4d0e-d2bf-b5426f99e664"
      },
      "outputs": [
        {
          "output_type": "stream",
          "name": "stdout",
          "text": [
            "Looking in indexes: https://pypi.org/simple, https://us-python.pkg.dev/colab-wheels/public/simple/\n",
            "Requirement already satisfied: cython in /usr/local/lib/python3.9/dist-packages (0.29.33)\n",
            "Looking in indexes: https://pypi.org/simple, https://us-python.pkg.dev/colab-wheels/public/simple/\n",
            "Requirement already satisfied: cython in /usr/local/lib/python3.9/dist-packages (0.29.33)\n",
            "Found existing installation: Cartopy 0.21.1\n",
            "Uninstalling Cartopy-0.21.1:\n",
            "  Would remove:\n",
            "    /usr/local/bin/cartopy_feature_download.py\n",
            "    /usr/local/lib/python3.9/dist-packages/Cartopy-0.21.1.dist-info/*\n",
            "    /usr/local/lib/python3.9/dist-packages/cartopy/*\n",
            "Proceed (Y/n)? Y\n",
            "  Successfully uninstalled Cartopy-0.21.1\n",
            "Looking in indexes: https://pypi.org/simple, https://us-python.pkg.dev/colab-wheels/public/simple/\n",
            "Collecting cartopy\n",
            "  Using cached Cartopy-0.21.1-cp39-cp39-linux_x86_64.whl\n",
            "Requirement already satisfied: numpy>=1.18 in /usr/local/lib/python3.9/dist-packages (from cartopy) (1.22.4)\n",
            "Requirement already satisfied: matplotlib>=3.1 in /usr/local/lib/python3.9/dist-packages (from cartopy) (3.7.1)\n",
            "Requirement already satisfied: pyproj>=3.0.0 in /usr/local/lib/python3.9/dist-packages (from cartopy) (3.4.1)\n",
            "Requirement already satisfied: shapely>=1.6.4 in /usr/local/lib/python3.9/dist-packages (from cartopy) (2.0.1)\n",
            "Requirement already satisfied: pyshp>=2.1 in /usr/local/lib/python3.9/dist-packages (from cartopy) (2.3.1)\n",
            "Requirement already satisfied: kiwisolver>=1.0.1 in /usr/local/lib/python3.9/dist-packages (from matplotlib>=3.1->cartopy) (1.4.4)\n",
            "Requirement already satisfied: fonttools>=4.22.0 in /usr/local/lib/python3.9/dist-packages (from matplotlib>=3.1->cartopy) (4.39.2)\n",
            "Requirement already satisfied: python-dateutil>=2.7 in /usr/local/lib/python3.9/dist-packages (from matplotlib>=3.1->cartopy) (2.8.2)\n",
            "Requirement already satisfied: packaging>=20.0 in /usr/local/lib/python3.9/dist-packages (from matplotlib>=3.1->cartopy) (23.0)\n",
            "Requirement already satisfied: contourpy>=1.0.1 in /usr/local/lib/python3.9/dist-packages (from matplotlib>=3.1->cartopy) (1.0.7)\n",
            "Requirement already satisfied: pillow>=6.2.0 in /usr/local/lib/python3.9/dist-packages (from matplotlib>=3.1->cartopy) (8.4.0)\n",
            "Requirement already satisfied: cycler>=0.10 in /usr/local/lib/python3.9/dist-packages (from matplotlib>=3.1->cartopy) (0.11.0)\n",
            "Requirement already satisfied: pyparsing>=2.3.1 in /usr/local/lib/python3.9/dist-packages (from matplotlib>=3.1->cartopy) (3.0.9)\n",
            "Requirement already satisfied: importlib-resources>=3.2.0 in /usr/local/lib/python3.9/dist-packages (from matplotlib>=3.1->cartopy) (5.12.0)\n",
            "Requirement already satisfied: certifi in /usr/local/lib/python3.9/dist-packages (from pyproj>=3.0.0->cartopy) (2022.12.7)\n",
            "Requirement already satisfied: zipp>=3.1.0 in /usr/local/lib/python3.9/dist-packages (from importlib-resources>=3.2.0->matplotlib>=3.1->cartopy) (3.15.0)\n",
            "Requirement already satisfied: six>=1.5 in /usr/local/lib/python3.9/dist-packages (from python-dateutil>=2.7->matplotlib>=3.1->cartopy) (1.16.0)\n",
            "Installing collected packages: cartopy\n",
            "Successfully installed cartopy-0.21.1\n"
          ]
        },
        {
          "output_type": "display_data",
          "data": {
            "application/vnd.colab-display-data+json": {
              "pip_warning": {
                "packages": [
                  "cartopy"
                ]
              }
            }
          },
          "metadata": {}
        },
        {
          "output_type": "stream",
          "name": "stdout",
          "text": [
            "Looking in indexes: https://pypi.org/simple, https://us-python.pkg.dev/colab-wheels/public/simple/\n",
            "Collecting descartes\n",
            "  Downloading descartes-1.1.0-py3-none-any.whl (5.8 kB)\n",
            "Requirement already satisfied: matplotlib in /usr/local/lib/python3.9/dist-packages (from descartes) (3.7.1)\n",
            "Requirement already satisfied: cycler>=0.10 in /usr/local/lib/python3.9/dist-packages (from matplotlib->descartes) (0.11.0)\n",
            "Requirement already satisfied: importlib-resources>=3.2.0 in /usr/local/lib/python3.9/dist-packages (from matplotlib->descartes) (5.12.0)\n",
            "Requirement already satisfied: pillow>=6.2.0 in /usr/local/lib/python3.9/dist-packages (from matplotlib->descartes) (8.4.0)\n",
            "Requirement already satisfied: python-dateutil>=2.7 in /usr/local/lib/python3.9/dist-packages (from matplotlib->descartes) (2.8.2)\n",
            "Requirement already satisfied: pyparsing>=2.3.1 in /usr/local/lib/python3.9/dist-packages (from matplotlib->descartes) (3.0.9)\n",
            "Requirement already satisfied: packaging>=20.0 in /usr/local/lib/python3.9/dist-packages (from matplotlib->descartes) (23.0)\n",
            "Requirement already satisfied: fonttools>=4.22.0 in /usr/local/lib/python3.9/dist-packages (from matplotlib->descartes) (4.39.2)\n",
            "Requirement already satisfied: contourpy>=1.0.1 in /usr/local/lib/python3.9/dist-packages (from matplotlib->descartes) (1.0.7)\n",
            "Requirement already satisfied: numpy>=1.20 in /usr/local/lib/python3.9/dist-packages (from matplotlib->descartes) (1.22.4)\n",
            "Requirement already satisfied: kiwisolver>=1.0.1 in /usr/local/lib/python3.9/dist-packages (from matplotlib->descartes) (1.4.4)\n",
            "Requirement already satisfied: zipp>=3.1.0 in /usr/local/lib/python3.9/dist-packages (from importlib-resources>=3.2.0->matplotlib->descartes) (3.15.0)\n",
            "Requirement already satisfied: six>=1.5 in /usr/local/lib/python3.9/dist-packages (from python-dateutil>=2.7->matplotlib->descartes) (1.16.0)\n",
            "Installing collected packages: descartes\n",
            "Successfully installed descartes-1.1.0\n"
          ]
        }
      ],
      "source": [
        "!pip install cython\n",
        "!pip install cython\n",
        "!pip uninstall cartopy\n",
        "!pip install cartopy\n",
        "!pip install descartes"
      ]
    },
    {
      "cell_type": "code",
      "execution_count": null,
      "metadata": {
        "colab": {
          "base_uri": "https://localhost:8080/"
        },
        "id": "09b3nHVgp-eD",
        "outputId": "ba74794b-ee67-4edd-bc05-6b0e20fcbe66"
      },
      "outputs": [
        {
          "output_type": "stream",
          "name": "stdout",
          "text": [
            "E: Unable to locate package python-cartopy\n",
            "Found existing installation: shapely 2.0.1\n",
            "Uninstalling shapely-2.0.1:\n",
            "  Successfully uninstalled shapely-2.0.1\n",
            "Looking in indexes: https://pypi.org/simple, https://us-python.pkg.dev/colab-wheels/public/simple/\n",
            "Collecting shapely\n",
            "  Downloading shapely-2.0.1.tar.gz (275 kB)\n",
            "\u001b[2K     \u001b[90m━━━━━━━━━━━━━━━━━━━━━━━━━━━━━━━━━━━━━━━\u001b[0m \u001b[32m275.5/275.5 KB\u001b[0m \u001b[31m4.9 MB/s\u001b[0m eta \u001b[36m0:00:00\u001b[0m\n",
            "\u001b[?25h  Installing build dependencies ... \u001b[?25l\u001b[?25hdone\n",
            "  Getting requirements to build wheel ... \u001b[?25l\u001b[?25hdone\n",
            "  Installing backend dependencies ... \u001b[?25l\u001b[?25hdone\n",
            "  Preparing metadata (pyproject.toml) ... \u001b[?25l\u001b[?25hdone\n",
            "Requirement already satisfied: numpy>=1.14 in /usr/local/lib/python3.9/dist-packages (from shapely) (1.22.4)\n",
            "Building wheels for collected packages: shapely\n",
            "  Building wheel for shapely (pyproject.toml) ... \u001b[?25l\u001b[?25hdone\n",
            "  Created wheel for shapely: filename=shapely-2.0.1-cp39-cp39-linux_x86_64.whl size=979743 sha256=57591fb489ce1ed031028ec34aff805103251a245606541c654298f25fd791af\n",
            "  Stored in directory: /root/.cache/pip/wheels/c2/f0/2b/e33fb469c9bf8d08688be4df902af6d7c2210128fc7c046889\n",
            "Successfully built shapely\n",
            "Installing collected packages: shapely\n",
            "Successfully installed shapely-2.0.1\n"
          ]
        }
      ],
      "source": [
        "!apt-get -qq install python-cartopy python3-cartopy\n",
        "!pip uninstall -y shapely    # cartopy and shapely aren't friends (early 2020)\n",
        "!pip install shapely --no-binary shapely"
      ]
    },
    {
      "cell_type": "code",
      "execution_count": null,
      "metadata": {
        "id": "Q914zo1MqZBm"
      },
      "outputs": [],
      "source": [
        "import pandas as pd\n",
        "import pyproj\n",
        "import math\n",
        "import matplotlib.pyplot as plt\n",
        "import seaborn as sb\n",
        "import urllib.request\n",
        "\n",
        "%matplotlib inline\n",
        "import matplotlib.pyplot as plt\n",
        "from matplotlib import cm\n",
        "\n",
        "import numpy as np\n",
        "\n",
        "import cartopy\n",
        "import cartopy.crs as ccrs                   # for projections\n",
        "import cartopy.feature as cfeature           # for features\n",
        "import cartopy.io.shapereader as shapereader\n",
        "from cartopy.mpl.ticker import LongitudeFormatter, LatitudeFormatter\n",
        "from cartopy.feature.nightshade import Nightshade\n",
        "import geopandas as gpd\n",
        "import random\n",
        "from shapely.geometry import Point, Polygon\n",
        "import time"
      ]
    },
    {
      "cell_type": "code",
      "execution_count": null,
      "metadata": {
        "colab": {
          "base_uri": "https://localhost:8080/",
          "height": 592
        },
        "id": "MPEDUe9PqcQA",
        "outputId": "a76e6dea-2159-4320-edf0-46c95d7fe450"
      },
      "outputs": [
        {
          "output_type": "execute_result",
          "data": {
            "text/plain": [
              "        ID     fec_not  semana   año  edad_  uni_med_ sexo_  cod_pais_o  \\\n",
              "0        1  17/01/2020       1  2020     25         1     F         170   \n",
              "1        2  10/01/2020       1  2020     24         1     M         170   \n",
              "2        3  12/01/2020       1  2020     58         1     M         170   \n",
              "3        4  12/01/2020       1  2020     29         1     F         170   \n",
              "4        5  10/01/2020       1  2020     56         1     F         170   \n",
              "...    ...         ...     ...   ...    ...       ...   ...         ...   \n",
              "1257  1258   7/03/2020       9  2020     36         1     F         170   \n",
              "1258  1259  13/03/2020       9  2020     42         1     M         170   \n",
              "1259  1260   8/03/2020       9  2020      2         1     M         170   \n",
              "1260  1261  11/03/2020       9  2020     12         1     F         170   \n",
              "1261  1262   9/03/2020       9  2020     14         1     M         170   \n",
              "\n",
              "      cod_dpto_o  cod_mun_o  ...  hipotension  hepatomegalia  \\\n",
              "0             68        276  ...            2              2   \n",
              "1             68        276  ...            2              2   \n",
              "2             68        276  ...            2              2   \n",
              "3             68        276  ...            2              2   \n",
              "4             68        276  ...            2              2   \n",
              "...          ...        ...  ...          ...            ...   \n",
              "1257          68        276  ...            2              2   \n",
              "1258          68        276  ...            2              2   \n",
              "1259          68        276  ...            2              2   \n",
              "1260          68        276  ...            2              2   \n",
              "1261          68        276  ...            2              2   \n",
              "\n",
              "     hemorragia_mucosa hipotermia  caida_plaquetas  acum_liquido  \\\n",
              "0                    2          2                2             2   \n",
              "1                    2          2                2             2   \n",
              "2                    2          2                2             2   \n",
              "3                    2          2                2             2   \n",
              "4                    2          2                1             2   \n",
              "...                ...        ...              ...           ...   \n",
              "1257                 1          2                2             2   \n",
              "1258                 2          2                1             2   \n",
              "1259                 2          2                2             2   \n",
              "1260                 2          2                2             2   \n",
              "1261                 2          2                2             2   \n",
              "\n",
              "      aum_hematocrito                 conducta   latitud   longitud  \n",
              "0                   2           1. Ambulatorio  7.076011 -73.102501  \n",
              "1                   2           1. Ambulatorio  7.079495 -73.105400  \n",
              "2                   2           1. Ambulatorio  7.090290 -73.091003  \n",
              "3                   2           1. Ambulatorio  7.067435 -73.090958  \n",
              "4                   2  2. Hospitalizacion piso  7.066905 -73.104980  \n",
              "...               ...                      ...       ...        ...  \n",
              "1257                2           1. Ambulatorio  7.072610 -73.099487  \n",
              "1258                1  2. Hospitalizacion piso  7.065252 -73.103607  \n",
              "1259                2           1. Ambulatorio  7.091391 -73.103264  \n",
              "1260                2           1. Ambulatorio  7.061083 -73.097000  \n",
              "1261                2  2. Hospitalizacion piso  7.062521 -73.080444  \n",
              "\n",
              "[1262 rows x 51 columns]"
            ],
            "text/html": [
              "\n",
              "  <div id=\"df-09de4366-8669-4fde-9350-dbc3bf306980\">\n",
              "    <div class=\"colab-df-container\">\n",
              "      <div>\n",
              "<style scoped>\n",
              "    .dataframe tbody tr th:only-of-type {\n",
              "        vertical-align: middle;\n",
              "    }\n",
              "\n",
              "    .dataframe tbody tr th {\n",
              "        vertical-align: top;\n",
              "    }\n",
              "\n",
              "    .dataframe thead th {\n",
              "        text-align: right;\n",
              "    }\n",
              "</style>\n",
              "<table border=\"1\" class=\"dataframe\">\n",
              "  <thead>\n",
              "    <tr style=\"text-align: right;\">\n",
              "      <th></th>\n",
              "      <th>ID</th>\n",
              "      <th>fec_not</th>\n",
              "      <th>semana</th>\n",
              "      <th>año</th>\n",
              "      <th>edad_</th>\n",
              "      <th>uni_med_</th>\n",
              "      <th>sexo_</th>\n",
              "      <th>cod_pais_o</th>\n",
              "      <th>cod_dpto_o</th>\n",
              "      <th>cod_mun_o</th>\n",
              "      <th>...</th>\n",
              "      <th>hipotension</th>\n",
              "      <th>hepatomegalia</th>\n",
              "      <th>hemorragia_mucosa</th>\n",
              "      <th>hipotermia</th>\n",
              "      <th>caida_plaquetas</th>\n",
              "      <th>acum_liquido</th>\n",
              "      <th>aum_hematocrito</th>\n",
              "      <th>conducta</th>\n",
              "      <th>latitud</th>\n",
              "      <th>longitud</th>\n",
              "    </tr>\n",
              "  </thead>\n",
              "  <tbody>\n",
              "    <tr>\n",
              "      <th>0</th>\n",
              "      <td>1</td>\n",
              "      <td>17/01/2020</td>\n",
              "      <td>1</td>\n",
              "      <td>2020</td>\n",
              "      <td>25</td>\n",
              "      <td>1</td>\n",
              "      <td>F</td>\n",
              "      <td>170</td>\n",
              "      <td>68</td>\n",
              "      <td>276</td>\n",
              "      <td>...</td>\n",
              "      <td>2</td>\n",
              "      <td>2</td>\n",
              "      <td>2</td>\n",
              "      <td>2</td>\n",
              "      <td>2</td>\n",
              "      <td>2</td>\n",
              "      <td>2</td>\n",
              "      <td>1. Ambulatorio</td>\n",
              "      <td>7.076011</td>\n",
              "      <td>-73.102501</td>\n",
              "    </tr>\n",
              "    <tr>\n",
              "      <th>1</th>\n",
              "      <td>2</td>\n",
              "      <td>10/01/2020</td>\n",
              "      <td>1</td>\n",
              "      <td>2020</td>\n",
              "      <td>24</td>\n",
              "      <td>1</td>\n",
              "      <td>M</td>\n",
              "      <td>170</td>\n",
              "      <td>68</td>\n",
              "      <td>276</td>\n",
              "      <td>...</td>\n",
              "      <td>2</td>\n",
              "      <td>2</td>\n",
              "      <td>2</td>\n",
              "      <td>2</td>\n",
              "      <td>2</td>\n",
              "      <td>2</td>\n",
              "      <td>2</td>\n",
              "      <td>1. Ambulatorio</td>\n",
              "      <td>7.079495</td>\n",
              "      <td>-73.105400</td>\n",
              "    </tr>\n",
              "    <tr>\n",
              "      <th>2</th>\n",
              "      <td>3</td>\n",
              "      <td>12/01/2020</td>\n",
              "      <td>1</td>\n",
              "      <td>2020</td>\n",
              "      <td>58</td>\n",
              "      <td>1</td>\n",
              "      <td>M</td>\n",
              "      <td>170</td>\n",
              "      <td>68</td>\n",
              "      <td>276</td>\n",
              "      <td>...</td>\n",
              "      <td>2</td>\n",
              "      <td>2</td>\n",
              "      <td>2</td>\n",
              "      <td>2</td>\n",
              "      <td>2</td>\n",
              "      <td>2</td>\n",
              "      <td>2</td>\n",
              "      <td>1. Ambulatorio</td>\n",
              "      <td>7.090290</td>\n",
              "      <td>-73.091003</td>\n",
              "    </tr>\n",
              "    <tr>\n",
              "      <th>3</th>\n",
              "      <td>4</td>\n",
              "      <td>12/01/2020</td>\n",
              "      <td>1</td>\n",
              "      <td>2020</td>\n",
              "      <td>29</td>\n",
              "      <td>1</td>\n",
              "      <td>F</td>\n",
              "      <td>170</td>\n",
              "      <td>68</td>\n",
              "      <td>276</td>\n",
              "      <td>...</td>\n",
              "      <td>2</td>\n",
              "      <td>2</td>\n",
              "      <td>2</td>\n",
              "      <td>2</td>\n",
              "      <td>2</td>\n",
              "      <td>2</td>\n",
              "      <td>2</td>\n",
              "      <td>1. Ambulatorio</td>\n",
              "      <td>7.067435</td>\n",
              "      <td>-73.090958</td>\n",
              "    </tr>\n",
              "    <tr>\n",
              "      <th>4</th>\n",
              "      <td>5</td>\n",
              "      <td>10/01/2020</td>\n",
              "      <td>1</td>\n",
              "      <td>2020</td>\n",
              "      <td>56</td>\n",
              "      <td>1</td>\n",
              "      <td>F</td>\n",
              "      <td>170</td>\n",
              "      <td>68</td>\n",
              "      <td>276</td>\n",
              "      <td>...</td>\n",
              "      <td>2</td>\n",
              "      <td>2</td>\n",
              "      <td>2</td>\n",
              "      <td>2</td>\n",
              "      <td>1</td>\n",
              "      <td>2</td>\n",
              "      <td>2</td>\n",
              "      <td>2. Hospitalizacion piso</td>\n",
              "      <td>7.066905</td>\n",
              "      <td>-73.104980</td>\n",
              "    </tr>\n",
              "    <tr>\n",
              "      <th>...</th>\n",
              "      <td>...</td>\n",
              "      <td>...</td>\n",
              "      <td>...</td>\n",
              "      <td>...</td>\n",
              "      <td>...</td>\n",
              "      <td>...</td>\n",
              "      <td>...</td>\n",
              "      <td>...</td>\n",
              "      <td>...</td>\n",
              "      <td>...</td>\n",
              "      <td>...</td>\n",
              "      <td>...</td>\n",
              "      <td>...</td>\n",
              "      <td>...</td>\n",
              "      <td>...</td>\n",
              "      <td>...</td>\n",
              "      <td>...</td>\n",
              "      <td>...</td>\n",
              "      <td>...</td>\n",
              "      <td>...</td>\n",
              "      <td>...</td>\n",
              "    </tr>\n",
              "    <tr>\n",
              "      <th>1257</th>\n",
              "      <td>1258</td>\n",
              "      <td>7/03/2020</td>\n",
              "      <td>9</td>\n",
              "      <td>2020</td>\n",
              "      <td>36</td>\n",
              "      <td>1</td>\n",
              "      <td>F</td>\n",
              "      <td>170</td>\n",
              "      <td>68</td>\n",
              "      <td>276</td>\n",
              "      <td>...</td>\n",
              "      <td>2</td>\n",
              "      <td>2</td>\n",
              "      <td>1</td>\n",
              "      <td>2</td>\n",
              "      <td>2</td>\n",
              "      <td>2</td>\n",
              "      <td>2</td>\n",
              "      <td>1. Ambulatorio</td>\n",
              "      <td>7.072610</td>\n",
              "      <td>-73.099487</td>\n",
              "    </tr>\n",
              "    <tr>\n",
              "      <th>1258</th>\n",
              "      <td>1259</td>\n",
              "      <td>13/03/2020</td>\n",
              "      <td>9</td>\n",
              "      <td>2020</td>\n",
              "      <td>42</td>\n",
              "      <td>1</td>\n",
              "      <td>M</td>\n",
              "      <td>170</td>\n",
              "      <td>68</td>\n",
              "      <td>276</td>\n",
              "      <td>...</td>\n",
              "      <td>2</td>\n",
              "      <td>2</td>\n",
              "      <td>2</td>\n",
              "      <td>2</td>\n",
              "      <td>1</td>\n",
              "      <td>2</td>\n",
              "      <td>1</td>\n",
              "      <td>2. Hospitalizacion piso</td>\n",
              "      <td>7.065252</td>\n",
              "      <td>-73.103607</td>\n",
              "    </tr>\n",
              "    <tr>\n",
              "      <th>1259</th>\n",
              "      <td>1260</td>\n",
              "      <td>8/03/2020</td>\n",
              "      <td>9</td>\n",
              "      <td>2020</td>\n",
              "      <td>2</td>\n",
              "      <td>1</td>\n",
              "      <td>M</td>\n",
              "      <td>170</td>\n",
              "      <td>68</td>\n",
              "      <td>276</td>\n",
              "      <td>...</td>\n",
              "      <td>2</td>\n",
              "      <td>2</td>\n",
              "      <td>2</td>\n",
              "      <td>2</td>\n",
              "      <td>2</td>\n",
              "      <td>2</td>\n",
              "      <td>2</td>\n",
              "      <td>1. Ambulatorio</td>\n",
              "      <td>7.091391</td>\n",
              "      <td>-73.103264</td>\n",
              "    </tr>\n",
              "    <tr>\n",
              "      <th>1260</th>\n",
              "      <td>1261</td>\n",
              "      <td>11/03/2020</td>\n",
              "      <td>9</td>\n",
              "      <td>2020</td>\n",
              "      <td>12</td>\n",
              "      <td>1</td>\n",
              "      <td>F</td>\n",
              "      <td>170</td>\n",
              "      <td>68</td>\n",
              "      <td>276</td>\n",
              "      <td>...</td>\n",
              "      <td>2</td>\n",
              "      <td>2</td>\n",
              "      <td>2</td>\n",
              "      <td>2</td>\n",
              "      <td>2</td>\n",
              "      <td>2</td>\n",
              "      <td>2</td>\n",
              "      <td>1. Ambulatorio</td>\n",
              "      <td>7.061083</td>\n",
              "      <td>-73.097000</td>\n",
              "    </tr>\n",
              "    <tr>\n",
              "      <th>1261</th>\n",
              "      <td>1262</td>\n",
              "      <td>9/03/2020</td>\n",
              "      <td>9</td>\n",
              "      <td>2020</td>\n",
              "      <td>14</td>\n",
              "      <td>1</td>\n",
              "      <td>M</td>\n",
              "      <td>170</td>\n",
              "      <td>68</td>\n",
              "      <td>276</td>\n",
              "      <td>...</td>\n",
              "      <td>2</td>\n",
              "      <td>2</td>\n",
              "      <td>2</td>\n",
              "      <td>2</td>\n",
              "      <td>2</td>\n",
              "      <td>2</td>\n",
              "      <td>2</td>\n",
              "      <td>2. Hospitalizacion piso</td>\n",
              "      <td>7.062521</td>\n",
              "      <td>-73.080444</td>\n",
              "    </tr>\n",
              "  </tbody>\n",
              "</table>\n",
              "<p>1262 rows × 51 columns</p>\n",
              "</div>\n",
              "      <button class=\"colab-df-convert\" onclick=\"convertToInteractive('df-09de4366-8669-4fde-9350-dbc3bf306980')\"\n",
              "              title=\"Convert this dataframe to an interactive table.\"\n",
              "              style=\"display:none;\">\n",
              "        \n",
              "  <svg xmlns=\"http://www.w3.org/2000/svg\" height=\"24px\"viewBox=\"0 0 24 24\"\n",
              "       width=\"24px\">\n",
              "    <path d=\"M0 0h24v24H0V0z\" fill=\"none\"/>\n",
              "    <path d=\"M18.56 5.44l.94 2.06.94-2.06 2.06-.94-2.06-.94-.94-2.06-.94 2.06-2.06.94zm-11 1L8.5 8.5l.94-2.06 2.06-.94-2.06-.94L8.5 2.5l-.94 2.06-2.06.94zm10 10l.94 2.06.94-2.06 2.06-.94-2.06-.94-.94-2.06-.94 2.06-2.06.94z\"/><path d=\"M17.41 7.96l-1.37-1.37c-.4-.4-.92-.59-1.43-.59-.52 0-1.04.2-1.43.59L10.3 9.45l-7.72 7.72c-.78.78-.78 2.05 0 2.83L4 21.41c.39.39.9.59 1.41.59.51 0 1.02-.2 1.41-.59l7.78-7.78 2.81-2.81c.8-.78.8-2.07 0-2.86zM5.41 20L4 18.59l7.72-7.72 1.47 1.35L5.41 20z\"/>\n",
              "  </svg>\n",
              "      </button>\n",
              "      \n",
              "  <style>\n",
              "    .colab-df-container {\n",
              "      display:flex;\n",
              "      flex-wrap:wrap;\n",
              "      gap: 12px;\n",
              "    }\n",
              "\n",
              "    .colab-df-convert {\n",
              "      background-color: #E8F0FE;\n",
              "      border: none;\n",
              "      border-radius: 50%;\n",
              "      cursor: pointer;\n",
              "      display: none;\n",
              "      fill: #1967D2;\n",
              "      height: 32px;\n",
              "      padding: 0 0 0 0;\n",
              "      width: 32px;\n",
              "    }\n",
              "\n",
              "    .colab-df-convert:hover {\n",
              "      background-color: #E2EBFA;\n",
              "      box-shadow: 0px 1px 2px rgba(60, 64, 67, 0.3), 0px 1px 3px 1px rgba(60, 64, 67, 0.15);\n",
              "      fill: #174EA6;\n",
              "    }\n",
              "\n",
              "    [theme=dark] .colab-df-convert {\n",
              "      background-color: #3B4455;\n",
              "      fill: #D2E3FC;\n",
              "    }\n",
              "\n",
              "    [theme=dark] .colab-df-convert:hover {\n",
              "      background-color: #434B5C;\n",
              "      box-shadow: 0px 1px 3px 1px rgba(0, 0, 0, 0.15);\n",
              "      filter: drop-shadow(0px 1px 2px rgba(0, 0, 0, 0.3));\n",
              "      fill: #FFFFFF;\n",
              "    }\n",
              "  </style>\n",
              "\n",
              "      <script>\n",
              "        const buttonEl =\n",
              "          document.querySelector('#df-09de4366-8669-4fde-9350-dbc3bf306980 button.colab-df-convert');\n",
              "        buttonEl.style.display =\n",
              "          google.colab.kernel.accessAllowed ? 'block' : 'none';\n",
              "\n",
              "        async function convertToInteractive(key) {\n",
              "          const element = document.querySelector('#df-09de4366-8669-4fde-9350-dbc3bf306980');\n",
              "          const dataTable =\n",
              "            await google.colab.kernel.invokeFunction('convertToInteractive',\n",
              "                                                     [key], {});\n",
              "          if (!dataTable) return;\n",
              "\n",
              "          const docLinkHtml = 'Like what you see? Visit the ' +\n",
              "            '<a target=\"_blank\" href=https://colab.research.google.com/notebooks/data_table.ipynb>data table notebook</a>'\n",
              "            + ' to learn more about interactive tables.';\n",
              "          element.innerHTML = '';\n",
              "          dataTable['output_type'] = 'display_data';\n",
              "          await google.colab.output.renderOutput(dataTable, element);\n",
              "          const docLink = document.createElement('div');\n",
              "          docLink.innerHTML = docLinkHtml;\n",
              "          element.appendChild(docLink);\n",
              "        }\n",
              "      </script>\n",
              "    </div>\n",
              "  </div>\n",
              "  "
            ]
          },
          "metadata": {},
          "execution_count": 6
        }
      ],
      "source": [
        "ruta = 'https://raw.githubusercontent.com/fmoreno4/cd-files/main/eventos_dengue_2020.csv'\n",
        "#ruta = 'https://raw.githubusercontent.com/rasief/cartografia/master/melb_data.csv'\n",
        "df = pd.read_csv(ruta)\n",
        "df"
      ]
    },
    {
      "cell_type": "code",
      "execution_count": null,
      "metadata": {
        "id": "xLs4gRTgrBrl"
      },
      "outputs": [],
      "source": [
        "#Creación de la proyección\n",
        "P = pyproj.Proj(proj='utm', zone=15, ellps='WGS84', preserve_units=True)"
      ]
    },
    {
      "cell_type": "code",
      "execution_count": null,
      "metadata": {
        "colab": {
          "base_uri": "https://localhost:8080/",
          "height": 592
        },
        "id": "ET1rB-S-rCt9",
        "outputId": "090645b2-b039-4776-cee8-69d7b0d7edad"
      },
      "outputs": [
        {
          "output_type": "execute_result",
          "data": {
            "text/plain": [
              "        ID     fec_not  semana   año  edad_  uni_med_ sexo_  cod_pais_o  \\\n",
              "0        1  17/01/2020       1  2020     25         1     F         170   \n",
              "1        2  10/01/2020       1  2020     24         1     M         170   \n",
              "2        3  12/01/2020       1  2020     58         1     M         170   \n",
              "3        4  12/01/2020       1  2020     29         1     F         170   \n",
              "4        5  10/01/2020       1  2020     56         1     F         170   \n",
              "...    ...         ...     ...   ...    ...       ...   ...         ...   \n",
              "1257  1258   7/03/2020       9  2020     36         1     F         170   \n",
              "1258  1259  13/03/2020       9  2020     42         1     M         170   \n",
              "1259  1260   8/03/2020       9  2020      2         1     M         170   \n",
              "1260  1261  11/03/2020       9  2020     12         1     F         170   \n",
              "1261  1262   9/03/2020       9  2020     14         1     M         170   \n",
              "\n",
              "      cod_dpto_o  cod_mun_o  ...  hemorragia_mucosa  hipotermia  \\\n",
              "0             68        276  ...                  2           2   \n",
              "1             68        276  ...                  2           2   \n",
              "2             68        276  ...                  2           2   \n",
              "3             68        276  ...                  2           2   \n",
              "4             68        276  ...                  2           2   \n",
              "...          ...        ...  ...                ...         ...   \n",
              "1257          68        276  ...                  1           2   \n",
              "1258          68        276  ...                  2           2   \n",
              "1259          68        276  ...                  2           2   \n",
              "1260          68        276  ...                  2           2   \n",
              "1261          68        276  ...                  2           2   \n",
              "\n",
              "     caida_plaquetas acum_liquido  aum_hematocrito                 conducta  \\\n",
              "0                  2            2                2           1. Ambulatorio   \n",
              "1                  2            2                2           1. Ambulatorio   \n",
              "2                  2            2                2           1. Ambulatorio   \n",
              "3                  2            2                2           1. Ambulatorio   \n",
              "4                  1            2                2  2. Hospitalizacion piso   \n",
              "...              ...          ...              ...                      ...   \n",
              "1257               2            2                2           1. Ambulatorio   \n",
              "1258               1            2                1  2. Hospitalizacion piso   \n",
              "1259               2            2                2           1. Ambulatorio   \n",
              "1260               2            2                2           1. Ambulatorio   \n",
              "1261               2            2                2  2. Hospitalizacion piso   \n",
              "\n",
              "       latitud   longitud             x              y  \n",
              "0     7.076011 -73.102501  2.741742e+06  831618.824330  \n",
              "1     7.079495 -73.105400  2.741383e+06  832012.634456  \n",
              "2     7.090290 -73.091003  2.743015e+06  833355.201667  \n",
              "3     7.067435 -73.090958  2.743140e+06  830672.463351  \n",
              "4     7.066905 -73.104980  2.741498e+06  830536.967666  \n",
              "...        ...        ...           ...            ...  \n",
              "1257  7.072610 -73.099487  2.742113e+06  831235.339511  \n",
              "1258  7.065252 -73.103607  2.741668e+06  830350.089419  \n",
              "1259  7.091391 -73.103264  2.741571e+06  833420.080181  \n",
              "1260  7.061083 -73.097000  2.742465e+06  829895.289246  \n",
              "1261  7.062521 -73.080444  2.744399e+06  830150.595350  \n",
              "\n",
              "[1262 rows x 53 columns]"
            ],
            "text/html": [
              "\n",
              "  <div id=\"df-6fcc77d2-0d82-44be-81eb-2070a05998b2\">\n",
              "    <div class=\"colab-df-container\">\n",
              "      <div>\n",
              "<style scoped>\n",
              "    .dataframe tbody tr th:only-of-type {\n",
              "        vertical-align: middle;\n",
              "    }\n",
              "\n",
              "    .dataframe tbody tr th {\n",
              "        vertical-align: top;\n",
              "    }\n",
              "\n",
              "    .dataframe thead th {\n",
              "        text-align: right;\n",
              "    }\n",
              "</style>\n",
              "<table border=\"1\" class=\"dataframe\">\n",
              "  <thead>\n",
              "    <tr style=\"text-align: right;\">\n",
              "      <th></th>\n",
              "      <th>ID</th>\n",
              "      <th>fec_not</th>\n",
              "      <th>semana</th>\n",
              "      <th>año</th>\n",
              "      <th>edad_</th>\n",
              "      <th>uni_med_</th>\n",
              "      <th>sexo_</th>\n",
              "      <th>cod_pais_o</th>\n",
              "      <th>cod_dpto_o</th>\n",
              "      <th>cod_mun_o</th>\n",
              "      <th>...</th>\n",
              "      <th>hemorragia_mucosa</th>\n",
              "      <th>hipotermia</th>\n",
              "      <th>caida_plaquetas</th>\n",
              "      <th>acum_liquido</th>\n",
              "      <th>aum_hematocrito</th>\n",
              "      <th>conducta</th>\n",
              "      <th>latitud</th>\n",
              "      <th>longitud</th>\n",
              "      <th>x</th>\n",
              "      <th>y</th>\n",
              "    </tr>\n",
              "  </thead>\n",
              "  <tbody>\n",
              "    <tr>\n",
              "      <th>0</th>\n",
              "      <td>1</td>\n",
              "      <td>17/01/2020</td>\n",
              "      <td>1</td>\n",
              "      <td>2020</td>\n",
              "      <td>25</td>\n",
              "      <td>1</td>\n",
              "      <td>F</td>\n",
              "      <td>170</td>\n",
              "      <td>68</td>\n",
              "      <td>276</td>\n",
              "      <td>...</td>\n",
              "      <td>2</td>\n",
              "      <td>2</td>\n",
              "      <td>2</td>\n",
              "      <td>2</td>\n",
              "      <td>2</td>\n",
              "      <td>1. Ambulatorio</td>\n",
              "      <td>7.076011</td>\n",
              "      <td>-73.102501</td>\n",
              "      <td>2.741742e+06</td>\n",
              "      <td>831618.824330</td>\n",
              "    </tr>\n",
              "    <tr>\n",
              "      <th>1</th>\n",
              "      <td>2</td>\n",
              "      <td>10/01/2020</td>\n",
              "      <td>1</td>\n",
              "      <td>2020</td>\n",
              "      <td>24</td>\n",
              "      <td>1</td>\n",
              "      <td>M</td>\n",
              "      <td>170</td>\n",
              "      <td>68</td>\n",
              "      <td>276</td>\n",
              "      <td>...</td>\n",
              "      <td>2</td>\n",
              "      <td>2</td>\n",
              "      <td>2</td>\n",
              "      <td>2</td>\n",
              "      <td>2</td>\n",
              "      <td>1. Ambulatorio</td>\n",
              "      <td>7.079495</td>\n",
              "      <td>-73.105400</td>\n",
              "      <td>2.741383e+06</td>\n",
              "      <td>832012.634456</td>\n",
              "    </tr>\n",
              "    <tr>\n",
              "      <th>2</th>\n",
              "      <td>3</td>\n",
              "      <td>12/01/2020</td>\n",
              "      <td>1</td>\n",
              "      <td>2020</td>\n",
              "      <td>58</td>\n",
              "      <td>1</td>\n",
              "      <td>M</td>\n",
              "      <td>170</td>\n",
              "      <td>68</td>\n",
              "      <td>276</td>\n",
              "      <td>...</td>\n",
              "      <td>2</td>\n",
              "      <td>2</td>\n",
              "      <td>2</td>\n",
              "      <td>2</td>\n",
              "      <td>2</td>\n",
              "      <td>1. Ambulatorio</td>\n",
              "      <td>7.090290</td>\n",
              "      <td>-73.091003</td>\n",
              "      <td>2.743015e+06</td>\n",
              "      <td>833355.201667</td>\n",
              "    </tr>\n",
              "    <tr>\n",
              "      <th>3</th>\n",
              "      <td>4</td>\n",
              "      <td>12/01/2020</td>\n",
              "      <td>1</td>\n",
              "      <td>2020</td>\n",
              "      <td>29</td>\n",
              "      <td>1</td>\n",
              "      <td>F</td>\n",
              "      <td>170</td>\n",
              "      <td>68</td>\n",
              "      <td>276</td>\n",
              "      <td>...</td>\n",
              "      <td>2</td>\n",
              "      <td>2</td>\n",
              "      <td>2</td>\n",
              "      <td>2</td>\n",
              "      <td>2</td>\n",
              "      <td>1. Ambulatorio</td>\n",
              "      <td>7.067435</td>\n",
              "      <td>-73.090958</td>\n",
              "      <td>2.743140e+06</td>\n",
              "      <td>830672.463351</td>\n",
              "    </tr>\n",
              "    <tr>\n",
              "      <th>4</th>\n",
              "      <td>5</td>\n",
              "      <td>10/01/2020</td>\n",
              "      <td>1</td>\n",
              "      <td>2020</td>\n",
              "      <td>56</td>\n",
              "      <td>1</td>\n",
              "      <td>F</td>\n",
              "      <td>170</td>\n",
              "      <td>68</td>\n",
              "      <td>276</td>\n",
              "      <td>...</td>\n",
              "      <td>2</td>\n",
              "      <td>2</td>\n",
              "      <td>1</td>\n",
              "      <td>2</td>\n",
              "      <td>2</td>\n",
              "      <td>2. Hospitalizacion piso</td>\n",
              "      <td>7.066905</td>\n",
              "      <td>-73.104980</td>\n",
              "      <td>2.741498e+06</td>\n",
              "      <td>830536.967666</td>\n",
              "    </tr>\n",
              "    <tr>\n",
              "      <th>...</th>\n",
              "      <td>...</td>\n",
              "      <td>...</td>\n",
              "      <td>...</td>\n",
              "      <td>...</td>\n",
              "      <td>...</td>\n",
              "      <td>...</td>\n",
              "      <td>...</td>\n",
              "      <td>...</td>\n",
              "      <td>...</td>\n",
              "      <td>...</td>\n",
              "      <td>...</td>\n",
              "      <td>...</td>\n",
              "      <td>...</td>\n",
              "      <td>...</td>\n",
              "      <td>...</td>\n",
              "      <td>...</td>\n",
              "      <td>...</td>\n",
              "      <td>...</td>\n",
              "      <td>...</td>\n",
              "      <td>...</td>\n",
              "      <td>...</td>\n",
              "    </tr>\n",
              "    <tr>\n",
              "      <th>1257</th>\n",
              "      <td>1258</td>\n",
              "      <td>7/03/2020</td>\n",
              "      <td>9</td>\n",
              "      <td>2020</td>\n",
              "      <td>36</td>\n",
              "      <td>1</td>\n",
              "      <td>F</td>\n",
              "      <td>170</td>\n",
              "      <td>68</td>\n",
              "      <td>276</td>\n",
              "      <td>...</td>\n",
              "      <td>1</td>\n",
              "      <td>2</td>\n",
              "      <td>2</td>\n",
              "      <td>2</td>\n",
              "      <td>2</td>\n",
              "      <td>1. Ambulatorio</td>\n",
              "      <td>7.072610</td>\n",
              "      <td>-73.099487</td>\n",
              "      <td>2.742113e+06</td>\n",
              "      <td>831235.339511</td>\n",
              "    </tr>\n",
              "    <tr>\n",
              "      <th>1258</th>\n",
              "      <td>1259</td>\n",
              "      <td>13/03/2020</td>\n",
              "      <td>9</td>\n",
              "      <td>2020</td>\n",
              "      <td>42</td>\n",
              "      <td>1</td>\n",
              "      <td>M</td>\n",
              "      <td>170</td>\n",
              "      <td>68</td>\n",
              "      <td>276</td>\n",
              "      <td>...</td>\n",
              "      <td>2</td>\n",
              "      <td>2</td>\n",
              "      <td>1</td>\n",
              "      <td>2</td>\n",
              "      <td>1</td>\n",
              "      <td>2. Hospitalizacion piso</td>\n",
              "      <td>7.065252</td>\n",
              "      <td>-73.103607</td>\n",
              "      <td>2.741668e+06</td>\n",
              "      <td>830350.089419</td>\n",
              "    </tr>\n",
              "    <tr>\n",
              "      <th>1259</th>\n",
              "      <td>1260</td>\n",
              "      <td>8/03/2020</td>\n",
              "      <td>9</td>\n",
              "      <td>2020</td>\n",
              "      <td>2</td>\n",
              "      <td>1</td>\n",
              "      <td>M</td>\n",
              "      <td>170</td>\n",
              "      <td>68</td>\n",
              "      <td>276</td>\n",
              "      <td>...</td>\n",
              "      <td>2</td>\n",
              "      <td>2</td>\n",
              "      <td>2</td>\n",
              "      <td>2</td>\n",
              "      <td>2</td>\n",
              "      <td>1. Ambulatorio</td>\n",
              "      <td>7.091391</td>\n",
              "      <td>-73.103264</td>\n",
              "      <td>2.741571e+06</td>\n",
              "      <td>833420.080181</td>\n",
              "    </tr>\n",
              "    <tr>\n",
              "      <th>1260</th>\n",
              "      <td>1261</td>\n",
              "      <td>11/03/2020</td>\n",
              "      <td>9</td>\n",
              "      <td>2020</td>\n",
              "      <td>12</td>\n",
              "      <td>1</td>\n",
              "      <td>F</td>\n",
              "      <td>170</td>\n",
              "      <td>68</td>\n",
              "      <td>276</td>\n",
              "      <td>...</td>\n",
              "      <td>2</td>\n",
              "      <td>2</td>\n",
              "      <td>2</td>\n",
              "      <td>2</td>\n",
              "      <td>2</td>\n",
              "      <td>1. Ambulatorio</td>\n",
              "      <td>7.061083</td>\n",
              "      <td>-73.097000</td>\n",
              "      <td>2.742465e+06</td>\n",
              "      <td>829895.289246</td>\n",
              "    </tr>\n",
              "    <tr>\n",
              "      <th>1261</th>\n",
              "      <td>1262</td>\n",
              "      <td>9/03/2020</td>\n",
              "      <td>9</td>\n",
              "      <td>2020</td>\n",
              "      <td>14</td>\n",
              "      <td>1</td>\n",
              "      <td>M</td>\n",
              "      <td>170</td>\n",
              "      <td>68</td>\n",
              "      <td>276</td>\n",
              "      <td>...</td>\n",
              "      <td>2</td>\n",
              "      <td>2</td>\n",
              "      <td>2</td>\n",
              "      <td>2</td>\n",
              "      <td>2</td>\n",
              "      <td>2. Hospitalizacion piso</td>\n",
              "      <td>7.062521</td>\n",
              "      <td>-73.080444</td>\n",
              "      <td>2.744399e+06</td>\n",
              "      <td>830150.595350</td>\n",
              "    </tr>\n",
              "  </tbody>\n",
              "</table>\n",
              "<p>1262 rows × 53 columns</p>\n",
              "</div>\n",
              "      <button class=\"colab-df-convert\" onclick=\"convertToInteractive('df-6fcc77d2-0d82-44be-81eb-2070a05998b2')\"\n",
              "              title=\"Convert this dataframe to an interactive table.\"\n",
              "              style=\"display:none;\">\n",
              "        \n",
              "  <svg xmlns=\"http://www.w3.org/2000/svg\" height=\"24px\"viewBox=\"0 0 24 24\"\n",
              "       width=\"24px\">\n",
              "    <path d=\"M0 0h24v24H0V0z\" fill=\"none\"/>\n",
              "    <path d=\"M18.56 5.44l.94 2.06.94-2.06 2.06-.94-2.06-.94-.94-2.06-.94 2.06-2.06.94zm-11 1L8.5 8.5l.94-2.06 2.06-.94-2.06-.94L8.5 2.5l-.94 2.06-2.06.94zm10 10l.94 2.06.94-2.06 2.06-.94-2.06-.94-.94-2.06-.94 2.06-2.06.94z\"/><path d=\"M17.41 7.96l-1.37-1.37c-.4-.4-.92-.59-1.43-.59-.52 0-1.04.2-1.43.59L10.3 9.45l-7.72 7.72c-.78.78-.78 2.05 0 2.83L4 21.41c.39.39.9.59 1.41.59.51 0 1.02-.2 1.41-.59l7.78-7.78 2.81-2.81c.8-.78.8-2.07 0-2.86zM5.41 20L4 18.59l7.72-7.72 1.47 1.35L5.41 20z\"/>\n",
              "  </svg>\n",
              "      </button>\n",
              "      \n",
              "  <style>\n",
              "    .colab-df-container {\n",
              "      display:flex;\n",
              "      flex-wrap:wrap;\n",
              "      gap: 12px;\n",
              "    }\n",
              "\n",
              "    .colab-df-convert {\n",
              "      background-color: #E8F0FE;\n",
              "      border: none;\n",
              "      border-radius: 50%;\n",
              "      cursor: pointer;\n",
              "      display: none;\n",
              "      fill: #1967D2;\n",
              "      height: 32px;\n",
              "      padding: 0 0 0 0;\n",
              "      width: 32px;\n",
              "    }\n",
              "\n",
              "    .colab-df-convert:hover {\n",
              "      background-color: #E2EBFA;\n",
              "      box-shadow: 0px 1px 2px rgba(60, 64, 67, 0.3), 0px 1px 3px 1px rgba(60, 64, 67, 0.15);\n",
              "      fill: #174EA6;\n",
              "    }\n",
              "\n",
              "    [theme=dark] .colab-df-convert {\n",
              "      background-color: #3B4455;\n",
              "      fill: #D2E3FC;\n",
              "    }\n",
              "\n",
              "    [theme=dark] .colab-df-convert:hover {\n",
              "      background-color: #434B5C;\n",
              "      box-shadow: 0px 1px 3px 1px rgba(0, 0, 0, 0.15);\n",
              "      filter: drop-shadow(0px 1px 2px rgba(0, 0, 0, 0.3));\n",
              "      fill: #FFFFFF;\n",
              "    }\n",
              "  </style>\n",
              "\n",
              "      <script>\n",
              "        const buttonEl =\n",
              "          document.querySelector('#df-6fcc77d2-0d82-44be-81eb-2070a05998b2 button.colab-df-convert');\n",
              "        buttonEl.style.display =\n",
              "          google.colab.kernel.accessAllowed ? 'block' : 'none';\n",
              "\n",
              "        async function convertToInteractive(key) {\n",
              "          const element = document.querySelector('#df-6fcc77d2-0d82-44be-81eb-2070a05998b2');\n",
              "          const dataTable =\n",
              "            await google.colab.kernel.invokeFunction('convertToInteractive',\n",
              "                                                     [key], {});\n",
              "          if (!dataTable) return;\n",
              "\n",
              "          const docLinkHtml = 'Like what you see? Visit the ' +\n",
              "            '<a target=\"_blank\" href=https://colab.research.google.com/notebooks/data_table.ipynb>data table notebook</a>'\n",
              "            + ' to learn more about interactive tables.';\n",
              "          element.innerHTML = '';\n",
              "          dataTable['output_type'] = 'display_data';\n",
              "          await google.colab.output.renderOutput(dataTable, element);\n",
              "          const docLink = document.createElement('div');\n",
              "          docLink.innerHTML = docLinkHtml;\n",
              "          element.appendChild(docLink);\n",
              "        }\n",
              "      </script>\n",
              "    </div>\n",
              "  </div>\n",
              "  "
            ]
          },
          "metadata": {},
          "execution_count": 8
        }
      ],
      "source": [
        "#Se convertirán las coordenadas geográficas a UTM\n",
        "df['x'], df['y'] = P(df['longitud'], df['latitud'])\n",
        "df"
      ]
    },
    {
      "cell_type": "code",
      "execution_count": null,
      "metadata": {
        "colab": {
          "base_uri": "https://localhost:8080/",
          "height": 901
        },
        "id": "01XeHOrFvCpG",
        "outputId": "d391a79d-0296-4a0e-ba5a-c668da4f2753"
      },
      "outputs": [
        {
          "output_type": "display_data",
          "data": {
            "text/plain": [
              "<Figure size 1152x1152 with 1 Axes>"
            ],
            "image/png": "[encoded data removed]"
          },
          "metadata": {
            "needs_background": "light"
          }
        }
      ],
      "source": [
        "subplot_kw = dict(projection=ccrs.PlateCarree())\n",
        "\n",
        "fig, ax = plt.subplots(figsize=(16, 16), subplot_kw=subplot_kw)\n",
        "\n",
        "# Puntos Melbourne\n",
        "lower_lon = -73.13\n",
        "upper_lon = -73.08\n",
        "lower_lat = 7.06\n",
        "upper_lat = 7.10\n",
        "\n",
        "ax.scatter(df['longitud'], df['latitud'], zorder=10, c='b', s=10)\n",
        "plt.show()"
      ]
    },
    {
      "cell_type": "code",
      "execution_count": null,
      "metadata": {
        "id": "nP1OwHXZvD29"
      },
      "outputs": [],
      "source": [
        "#Se carga la cartografía de Melbourne\n",
        "url = 'https://foscal.net/cartografia/'\n",
        "#url = 'https://raw.githubusercontent.com/fmoreno4/cd-files/main/'\n",
        "\n",
        "file_list = [\"68276_urbano.cpg\", \"68276_urbano.dbf\", \"68276_urbano.prj\", \"68276_urbano.qmd\", \"68276_urbano.shp\", \"68276_urbano.shx\"]\n",
        "#file_list = [\"melbourne-metro-region.dbf\", \"melbourne-metro-region.prj\", \"melbourne-metro-region.shp\", \"melbourne-metro-region.shx\"]\n",
        "#file_list = [\"UrbanExtent2015_region.dbf\", \"UrbanExtent2015_region.prj\", \"UrbanExtent2015_region.shp\", \"UrbanExtent2015_region.shx\"]\n",
        "\n",
        "for file in file_list:\n",
        "    urllib.request.urlretrieve(url+file, file)"
      ]
    },
    {
      "cell_type": "code",
      "execution_count": null,
      "metadata": {
        "colab": {
          "base_uri": "https://localhost:8080/",
          "height": 924
        },
        "id": "vH-ni8BzvHYV",
        "outputId": "7d8a845c-7d7b-4ffa-cae4-41b9592c711e"
      },
      "outputs": [
        {
          "output_type": "display_data",
          "data": {
            "text/plain": [
              "<Figure size 1440x1440 with 1 Axes>"
            ],
            "image/png": "[encoded data removed]"
          },
          "metadata": {
            "needs_background": "light"
          }
        }
      ],
      "source": [
        "subplot_kw = dict(projection=ccrs.PlateCarree())\n",
        "\n",
        "fig, ax = plt.subplots(figsize=(20, 20), subplot_kw=subplot_kw)\n",
        "\n",
        "# Mapa de Melbourne\n",
        "lower_lon = -73.13\n",
        "upper_lon = -73.08\n",
        "lower_lat = 7.06\n",
        "upper_lat = 7.10\n",
        "\n",
        "ax.set_extent([lower_lon, upper_lon, lower_lat, upper_lat])\n",
        "\n",
        "reader = shapereader.Reader('68276_urbano.shp')\n",
        "\n",
        "for poli in reader.geometries():\n",
        "    ax.add_geometries([poli], ccrs.PlateCarree(), facecolor='white', edgecolor='gray')\n",
        "\n",
        "plt.show()"
      ]
    },
    {
      "cell_type": "code",
      "execution_count": null,
      "metadata": {
        "colab": {
          "base_uri": "https://localhost:8080/",
          "height": 924
        },
        "id": "FFm8yRgmvMhl",
        "outputId": "d4b255ea-aad2-4b90-85ef-e60fafc9f8fd"
      },
      "outputs": [
        {
          "output_type": "display_data",
          "data": {
            "text/plain": [
              "<Figure size 1440x1440 with 1 Axes>"
            ],
            "image/png": "[encoded data removed]"
          },
          "metadata": {
            "needs_background": "light"
          }
        }
      ],
      "source": [
        "subplot_kw = dict(projection=ccrs.PlateCarree())\n",
        "\n",
        "fig, ax = plt.subplots(figsize=(20, 20), subplot_kw=subplot_kw)\n",
        "\n",
        "# Puntos y mapa de Melbourne\n",
        "lower_lon = -73.13\n",
        "upper_lon = -73.08\n",
        "lower_lat = 7.06\n",
        "upper_lat = 7.10\n",
        "\n",
        "ax.set_extent([lower_lon, upper_lon, lower_lat, upper_lat])\n",
        "\n",
        "reader = shapereader.Reader('68276_urbano.shp')\n",
        "\n",
        "for poli in reader.geometries():\n",
        "    ax.add_geometries([poli], ccrs.PlateCarree(), facecolor='white', edgecolor='gray')\n",
        "\n",
        "ax.scatter(df['longitud'], df['latitud'], zorder=10, c='b', s=10)\n",
        "\n",
        "plt.show()"
      ]
    },
    {
      "cell_type": "code",
      "execution_count": null,
      "metadata": {
        "colab": {
          "base_uri": "https://localhost:8080/"
        },
        "id": "loAfPEaX09AF",
        "outputId": "6a334b2e-df76-463d-cd74-dad0c79b0f44"
      },
      "outputs": [
        {
          "output_type": "stream",
          "name": "stdout",
          "text": [
            "El área de Floridablanca es de 17030066.99 metros cuadrados\n"
          ]
        }
      ],
      "source": [
        "floridablanca = gpd.read_file(\"68276_urbano.shp\")\n",
        "floridablanca = floridablanca.to_crs(\"EPSG:32618\")\n",
        "area_floridablanca = floridablanca.area.sum()\n",
        "print(f\"El área de Floridablanca es de {area_floridablanca:.2f} metros cuadrados\")\n"
      ]
    },
    {
      "cell_type": "code",
      "execution_count": null,
      "metadata": {
        "id": "ygTzM7-UwmXq"
      },
      "outputs": [],
      "source": [
        "listapuntosFUBUKI=[]\n",
        "for i in range(df.shape[0]):\n",
        "  listapuntosFUBUKI.append((df[\"x\"][i],df[\"y\"][i]))\n",
        "\n",
        "  "
      ]
    },
    {
      "cell_type": "code",
      "source": [
        "len(listapuntosFUBUKI)"
      ],
      "metadata": {
        "colab": {
          "base_uri": "https://localhost:8080/"
        },
        "id": "tfxEGsZGRIy7",
        "outputId": "f0010340-529c-4977-f69b-740ccad01d19"
      },
      "execution_count": null,
      "outputs": [
        {
          "output_type": "execute_result",
          "data": {
            "text/plain": [
              "1262"
            ]
          },
          "metadata": {},
          "execution_count": 15
        }
      ]
    },
    {
      "cell_type": "code",
      "source": [
        "from shapely.geometry import Point\n",
        "from shapely.ops import nearest_points\n",
        "from itertools import combinations"
      ],
      "metadata": {
        "id": "TIcquSnAQUts"
      },
      "execution_count": null,
      "outputs": []
    },
    {
      "cell_type": "code",
      "source": [
        "from scipy.spatial.distance import pdist, squareform\n",
        "\n",
        "coords = np.column_stack((df['x'], df['y']))\n",
        "\n",
        "dist_matrix = squareform(pdist(coords))\n",
        "\n",
        "mask = dist_matrix < 100\n",
        "\n",
        "num_pairs = np.sum(mask) // 2 \n",
        "print(num_pairs)"
      ],
      "metadata": {
        "colab": {
          "base_uri": "https://localhost:8080/"
        },
        "id": "1WQchD2zLBOj",
        "outputId": "0a68ace7-f551-494c-eb72-6481b4e866f3"
      },
      "execution_count": null,
      "outputs": [
        {
          "output_type": "stream",
          "name": "stdout",
          "text": [
            "4257\n"
          ]
        }
      ]
    },
    {
      "cell_type": "code",
      "source": [
        "def calcular_distancia(x1, y1, x2, y2):\n",
        "    distancia = math.sqrt((x2 - x1)**2 + (y2 - y1)**2)\n",
        "    return distancia"
      ],
      "metadata": {
        "id": "Miw-5R2GNINf"
      },
      "execution_count": null,
      "outputs": []
    },
    {
      "cell_type": "code",
      "source": [
        "def funcionk(listapuntosFUBUKI, area, h):\n",
        "  contK=0\n",
        "  for i in range(len(listapuntosFUBUKI)-1):\n",
        "    for j in range(i+1,len(listapuntosFUBUKI)):\n",
        "      if calcular_distancia(listapuntosFUBUKI[i][0],listapuntosFUBUKI[i][1],listapuntosFUBUKI[j][0],listapuntosFUBUKI[j][1])<=h:\n",
        "        contK+=1\n",
        "  valorK=contK*area/len(listapuntosFUBUKI)**2\n",
        "  return valorK \n",
        "  \n",
        "funcionk(listapuntosFUBUKI,area_floridablanca,100)"
      ],
      "metadata": {
        "colab": {
          "base_uri": "https://localhost:8080/"
        },
        "id": "DGouTV1OIWmW",
        "outputId": "2e663030-f53c-4b1c-b699-2c6d5139b770"
      },
      "execution_count": null,
      "outputs": [
        {
          "output_type": "execute_result",
          "data": {
            "text/plain": [
              "38772.64655741063"
            ]
          },
          "metadata": {},
          "execution_count": 19
        }
      ]
    },
    {
      "cell_type": "code",
      "source": [
        "\n",
        "lower_lon = -73.13\n",
        "upper_lon = -73.08\n",
        "lower_lat = 7.06\n",
        "upper_lat = 7.10\n",
        "\n",
        "import numpy as np\n",
        "\n",
        "lower_lon, lower_lat, upper_lon, upper_lat = floridablanca.total_bounds\n",
        "num_points = 1000\n",
        "\n",
        "random_points = []\n",
        "while len(random_points) < num_points:\n",
        "    point = [np.random.uniform(upper_lon, lower_lon), np.random.uniform(lower_lat, upper_lat)]\n",
        "    random_points.append(point)\n",
        "\n"
      ],
      "metadata": {
        "id": "3CvKBcj33N2B"
      },
      "execution_count": null,
      "outputs": []
    },
    {
      "cell_type": "code",
      "source": [
        "def filter_points_within_polygon(polygon, points):\n",
        "    filtered_points = []\n",
        "    for point in points:\n",
        "        if polygon.contains(Point(point)):\n",
        "            filtered_points.append(point)\n",
        "    return filtered_points\n",
        "\n",
        "filtered_points = filter_points_within_polygon(floridablanca.geometry[0], random_points)"
      ],
      "metadata": {
        "id": "8lZWY2nmAdvv"
      },
      "execution_count": null,
      "outputs": []
    },
    {
      "cell_type": "code",
      "source": [
        "from shapely.geometry import Point\n",
        "\n",
        "points_gdf = gpd.GeoDataFrame(geometry=[Point(point) for point in filtered_points])\n",
        "points_gdf['id'] = range(len(points_gdf))"
      ],
      "metadata": {
        "id": "XdiGMfzFAgof"
      },
      "execution_count": null,
      "outputs": []
    },
    {
      "cell_type": "code",
      "source": [
        "ax = floridablanca.plot(color='white', edgecolor='blue')\n",
        "points_gdf.plot(ax=ax, color='green', markersize=5)"
      ],
      "metadata": {
        "colab": {
          "base_uri": "https://localhost:8080/",
          "height": 282
        },
        "id": "HwSUAUYZAllY",
        "outputId": "f2a16ffd-daa8-4589-9e5b-13739396041d"
      },
      "execution_count": null,
      "outputs": [
        {
          "output_type": "execute_result",
          "data": {
            "text/plain": [
              "<Axes: >"
            ]
          },
          "metadata": {},
          "execution_count": 23
        },
        {
          "output_type": "display_data",
          "data": {
            "text/plain": [
              "<Figure size 432x288 with 1 Axes>"
            ],
            "image/png": "[encoded data removed]"
          },
          "metadata": {
            "needs_background": "light"
          }
        }
      ]
    },
    {
      "cell_type": "code",
      "source": [
        "lower_lon = -73.13\n",
        "upper_lon = -73.08\n",
        "lower_lat = 7.06\n",
        "upper_lat = 7.10"
      ],
      "metadata": {
        "id": "NRRN3Q794p_p"
      },
      "execution_count": null,
      "outputs": []
    },
    {
      "cell_type": "code",
      "source": [
        "import pyproj\n",
        "\n",
        "p = pyproj.Proj(proj='utm', zone=18, ellps='WGS84', preserve_units=True)"
      ],
      "metadata": {
        "id": "HUqChGW75oGs"
      },
      "execution_count": null,
      "outputs": []
    },
    {
      "cell_type": "code",
      "source": [
        "xmin,ymin = p(lower_lon, lower_lat)\n",
        "xmax, ymax = p(upper_lon, upper_lat)"
      ],
      "metadata": {
        "id": "fjjGIa715pXJ"
      },
      "execution_count": null,
      "outputs": []
    },
    {
      "cell_type": "code",
      "source": [
        "xmin,ymin,xmax,ymax"
      ],
      "metadata": {
        "colab": {
          "base_uri": "https://localhost:8080/"
        },
        "id": "Fw_IYy7559OZ",
        "outputId": "5a97b3a9-5cc1-4b35-9e6a-14d0b71c7650"
      },
      "execution_count": null,
      "outputs": [
        {
          "output_type": "execute_result",
          "data": {
            "text/plain": [
              "(706552.7316262802, 780796.0652021945, 712059.2439258386, 785242.8333012793)"
            ]
          },
          "metadata": {},
          "execution_count": 27
        }
      ]
    },
    {
      "cell_type": "code",
      "source": [
        "import shapely.geometry as sg\n"
      ],
      "metadata": {
        "id": "nGX_J1v86OuZ"
      },
      "execution_count": null,
      "outputs": []
    },
    {
      "cell_type": "code",
      "source": [
        "from shapely.geometry import Polygon\n",
        "coordenadas = floridablanca.geometry[0]\n",
        "poligono = Polygon(coordenadas)\n",
        "listagruporamdom=[]\n",
        "for i in range(9):\n",
        "    group = []\n",
        "    i = 0\n",
        "while i < len(listapuntosFUBUKI):\n",
        "    random_easting = np.random.uniform(xmin, xmax)\n",
        "    random_northing = np.random.uniform(ymin, ymax)\n",
        "    point = Point(random_easting, random_northing)\n",
        "    if point.within(poligono):\n",
        "        group.append((random_easting, random_northing))\n",
        "        i += 1\n",
        "\n",
        "listagruporamdom.append(group)\n",
        "import matplotlib.pyplot as plt\n",
        "\n",
        "fig, axs = plt.subplots(len(listagruporamdom))\n",
        "\n",
        "for i, group in enumerate(listagruporamdom):\n",
        "    x, y = zip(*group)\n",
        "    axs[i].scatter(x, y)\n",
        "    axs[i].set_title(f'Grupo {i+1}')\n",
        "    \n",
        "plt.tight_layout()\n",
        "plt.show()\n"
      ],
      "metadata": {
        "colab": {
          "base_uri": "https://localhost:8080/",
          "height": 487
        },
        "id": "cmHa2NbBgdgN",
        "outputId": "4151de45-3fca-4572-c839-e8824e0d9c73"
      },
      "execution_count": null,
      "outputs": [
        {
          "output_type": "error",
          "ename": "ValueError",
          "evalue": "ignored",
          "traceback": [
            "\u001b[0;31m---------------------------------------------------------------------------\u001b[0m",
            "\u001b[0;31mValueError\u001b[0m                                Traceback (most recent call last)",
            "\u001b[0;32m<ipython-input-50-19d6e1b89ead>\u001b[0m in \u001b[0;36m<module>\u001b[0;34m\u001b[0m\n\u001b[1;32m     20\u001b[0m \u001b[0;34m\u001b[0m\u001b[0m\n\u001b[1;32m     21\u001b[0m \u001b[0;32mfor\u001b[0m \u001b[0mi\u001b[0m\u001b[0;34m,\u001b[0m \u001b[0mgroup\u001b[0m \u001b[0;32min\u001b[0m \u001b[0menumerate\u001b[0m\u001b[0;34m(\u001b[0m\u001b[0mlistagruporamdom\u001b[0m\u001b[0;34m)\u001b[0m\u001b[0;34m:\u001b[0m\u001b[0;34m\u001b[0m\u001b[0;34m\u001b[0m\u001b[0m\n\u001b[0;32m---> 22\u001b[0;31m     \u001b[0mx\u001b[0m\u001b[0;34m,\u001b[0m \u001b[0my\u001b[0m \u001b[0;34m=\u001b[0m \u001b[0mzip\u001b[0m\u001b[0;34m(\u001b[0m\u001b[0;34m*\u001b[0m\u001b[0mgroup\u001b[0m\u001b[0;34m)\u001b[0m\u001b[0;34m\u001b[0m\u001b[0;34m\u001b[0m\u001b[0m\n\u001b[0m\u001b[1;32m     23\u001b[0m     \u001b[0maxs\u001b[0m\u001b[0;34m[\u001b[0m\u001b[0mi\u001b[0m\u001b[0;34m]\u001b[0m\u001b[0;34m.\u001b[0m\u001b[0mscatter\u001b[0m\u001b[0;34m(\u001b[0m\u001b[0mx\u001b[0m\u001b[0;34m,\u001b[0m \u001b[0my\u001b[0m\u001b[0;34m)\u001b[0m\u001b[0;34m\u001b[0m\u001b[0;34m\u001b[0m\u001b[0m\n\u001b[1;32m     24\u001b[0m     \u001b[0maxs\u001b[0m\u001b[0;34m[\u001b[0m\u001b[0mi\u001b[0m\u001b[0;34m]\u001b[0m\u001b[0;34m.\u001b[0m\u001b[0mset_title\u001b[0m\u001b[0;34m(\u001b[0m\u001b[0;34mf'Grupo {i+1}'\u001b[0m\u001b[0;34m)\u001b[0m\u001b[0;34m\u001b[0m\u001b[0;34m\u001b[0m\u001b[0m\n",
            "\u001b[0;31mValueError\u001b[0m: not enough values to unpack (expected 2, got 0)"
          ]
        },
        {
          "output_type": "display_data",
          "data": {
            "text/plain": [
              "<Figure size 432x288 with 1 Axes>"
            ],
            "image/png": "[encoded data removed]"
          },
          "metadata": {
            "needs_background": "light"
          }
        }
      ]
    },
    {
      "cell_type": "markdown",
      "source": [
        "Queremos mostrar cada uno de los grupos con sus coordenadas en una grafica diferente pero hacen falta valores en la iteracion de enumeracion pero por falta de tiempo y conocimiento no se puede solucionar :(\n",
        "  "
      ],
      "metadata": {
        "id": "f9hVfxUYifYU"
      }
    },
    {
      "cell_type": "code",
      "source": [
        "\n",
        "df_grupo1 = pd.DataFrame(listagruporamdom[0], columns=['x', 'y'])\n",
        "\n",
        "df_grupo1['longitud'],df_grupo1['latitud']=p(df_grupo1['x'],df_grupo1['y'],inverse=True)\n",
        "\n",
        "df_grupo1"
      ],
      "metadata": {
        "id": "9cM5LGDaX_XY",
        "outputId": "07c94fc5-d8d3-455b-bd12-8bb9d988e7b5",
        "colab": {
          "base_uri": "https://localhost:8080/",
          "height": 49
        }
      },
      "execution_count": 51,
      "outputs": [
        {
          "output_type": "execute_result",
          "data": {
            "text/plain": [
              "Empty DataFrame\n",
              "Columns: [x, y, longitud, latitud]\n",
              "Index: []"
            ],
            "text/html": [
              "\n",
              "  <div id=\"df-042c1ffc-2e55-47d3-a241-641c26c95b95\">\n",
              "    <div class=\"colab-df-container\">\n",
              "      <div>\n",
              "<style scoped>\n",
              "    .dataframe tbody tr th:only-of-type {\n",
              "        vertical-align: middle;\n",
              "    }\n",
              "\n",
              "    .dataframe tbody tr th {\n",
              "        vertical-align: top;\n",
              "    }\n",
              "\n",
              "    .dataframe thead th {\n",
              "        text-align: right;\n",
              "    }\n",
              "</style>\n",
              "<table border=\"1\" class=\"dataframe\">\n",
              "  <thead>\n",
              "    <tr style=\"text-align: right;\">\n",
              "      <th></th>\n",
              "      <th>x</th>\n",
              "      <th>y</th>\n",
              "      <th>longitud</th>\n",
              "      <th>latitud</th>\n",
              "    </tr>\n",
              "  </thead>\n",
              "  <tbody>\n",
              "  </tbody>\n",
              "</table>\n",
              "</div>\n",
              "      <button class=\"colab-df-convert\" onclick=\"convertToInteractive('df-042c1ffc-2e55-47d3-a241-641c26c95b95')\"\n",
              "              title=\"Convert this dataframe to an interactive table.\"\n",
              "              style=\"display:none;\">\n",
              "        \n",
              "  <svg xmlns=\"http://www.w3.org/2000/svg\" height=\"24px\"viewBox=\"0 0 24 24\"\n",
              "       width=\"24px\">\n",
              "    <path d=\"M0 0h24v24H0V0z\" fill=\"none\"/>\n",
              "    <path d=\"M18.56 5.44l.94 2.06.94-2.06 2.06-.94-2.06-.94-.94-2.06-.94 2.06-2.06.94zm-11 1L8.5 8.5l.94-2.06 2.06-.94-2.06-.94L8.5 2.5l-.94 2.06-2.06.94zm10 10l.94 2.06.94-2.06 2.06-.94-2.06-.94-.94-2.06-.94 2.06-2.06.94z\"/><path d=\"M17.41 7.96l-1.37-1.37c-.4-.4-.92-.59-1.43-.59-.52 0-1.04.2-1.43.59L10.3 9.45l-7.72 7.72c-.78.78-.78 2.05 0 2.83L4 21.41c.39.39.9.59 1.41.59.51 0 1.02-.2 1.41-.59l7.78-7.78 2.81-2.81c.8-.78.8-2.07 0-2.86zM5.41 20L4 18.59l7.72-7.72 1.47 1.35L5.41 20z\"/>\n",
              "  </svg>\n",
              "      </button>\n",
              "      \n",
              "  <style>\n",
              "    .colab-df-container {\n",
              "      display:flex;\n",
              "      flex-wrap:wrap;\n",
              "      gap: 12px;\n",
              "    }\n",
              "\n",
              "    .colab-df-convert {\n",
              "      background-color: #E8F0FE;\n",
              "      border: none;\n",
              "      border-radius: 50%;\n",
              "      cursor: pointer;\n",
              "      display: none;\n",
              "      fill: #1967D2;\n",
              "      height: 32px;\n",
              "      padding: 0 0 0 0;\n",
              "      width: 32px;\n",
              "    }\n",
              "\n",
              "    .colab-df-convert:hover {\n",
              "      background-color: #E2EBFA;\n",
              "      box-shadow: 0px 1px 2px rgba(60, 64, 67, 0.3), 0px 1px 3px 1px rgba(60, 64, 67, 0.15);\n",
              "      fill: #174EA6;\n",
              "    }\n",
              "\n",
              "    [theme=dark] .colab-df-convert {\n",
              "      background-color: #3B4455;\n",
              "      fill: #D2E3FC;\n",
              "    }\n",
              "\n",
              "    [theme=dark] .colab-df-convert:hover {\n",
              "      background-color: #434B5C;\n",
              "      box-shadow: 0px 1px 3px 1px rgba(0, 0, 0, 0.15);\n",
              "      filter: drop-shadow(0px 1px 2px rgba(0, 0, 0, 0.3));\n",
              "      fill: #FFFFFF;\n",
              "    }\n",
              "  </style>\n",
              "\n",
              "      <script>\n",
              "        const buttonEl =\n",
              "          document.querySelector('#df-042c1ffc-2e55-47d3-a241-641c26c95b95 button.colab-df-convert');\n",
              "        buttonEl.style.display =\n",
              "          google.colab.kernel.accessAllowed ? 'block' : 'none';\n",
              "\n",
              "        async function convertToInteractive(key) {\n",
              "          const element = document.querySelector('#df-042c1ffc-2e55-47d3-a241-641c26c95b95');\n",
              "          const dataTable =\n",
              "            await google.colab.kernel.invokeFunction('convertToInteractive',\n",
              "                                                     [key], {});\n",
              "          if (!dataTable) return;\n",
              "\n",
              "          const docLinkHtml = 'Like what you see? Visit the ' +\n",
              "            '<a target=\"_blank\" href=https://colab.research.google.com/notebooks/data_table.ipynb>data table notebook</a>'\n",
              "            + ' to learn more about interactive tables.';\n",
              "          element.innerHTML = '';\n",
              "          dataTable['output_type'] = 'display_data';\n",
              "          await google.colab.output.renderOutput(dataTable, element);\n",
              "          const docLink = document.createElement('div');\n",
              "          docLink.innerHTML = docLinkHtml;\n",
              "          element.appendChild(docLink);\n",
              "        }\n",
              "      </script>\n",
              "    </div>\n",
              "  </div>\n",
              "  "
            ]
          },
          "metadata": {},
          "execution_count": 51
        }
      ]
    },
    {
      "cell_type": "code",
      "source": [
        "from pandas.compat import F\n",
        "listaDatos=[]\n",
        "for h in range(10,201,10):\n",
        "    k = funcionk(listapuntosFUBUKI,area_floridablanca,h)\n",
        "    listak=[]\n",
        "    for group in listagruporamdom:\n",
        "        listak.append(funcionk(group,area_floridablanca,h))\n",
        "    listak.append(k)\n",
        "    listak.sort()\n",
        "\n",
        "    percentile_2_5 = np.percentile(listak, 2.5)\n",
        "    percentile_97_5 = np.percentile(listak, 97.5)\n",
        "    listaDatos.append([h, k,percentile_2_5, percentile_97_5])"
      ],
      "metadata": {
        "id": "H5aKm5-7ZO1h",
        "outputId": "dbe47127-3562-42eb-a6ac-ad7d8aeffcd5",
        "colab": {
          "base_uri": "https://localhost:8080/"
        }
      },
      "execution_count": 52,
      "outputs": [
        {
          "output_type": "stream",
          "name": "stderr",
          "text": [
            "<ipython-input-19-9ecd4f067638>:7: RuntimeWarning: invalid value encountered in double_scalars\n",
            "  valorK=contK*area/len(listapuntosFUBUKI)**2\n"
          ]
        }
      ]
    },
    {
      "cell_type": "code",
      "source": [
        "dfresultados=pd.DataFrame(listaDatos,columns=('h','k','percentile_2_5', 'percentile_97_5'))\n",
        "dfresultados"
      ],
      "metadata": {
        "id": "6rGQPDOsaOgo"
      },
      "execution_count": null,
      "outputs": []
    },
    {
      "cell_type": "code",
      "source": [
        "df = pd.DataFrame(listaDatos, columns=['h', 'k', 'percentile_2_5', 'percentile_97_5'])\n",
        "\n",
        "# Creamos la visualización\n",
        "plt.plot(df['h'], df['k'], label='k')\n",
        "plt.plot(df['h'], df['percentile_2_5'], label='2.5% percentile')\n",
        "plt.plot(df['h'], df['percentile_97_5'], label='97.5% percentile')\n",
        "plt.xlabel('h')\n",
        "plt.ylabel('Valor')\n",
        "plt.legend()\n",
        "plt.show()"
      ],
      "metadata": {
        "id": "3xbHVAsVNe_O"
      },
      "execution_count": null,
      "outputs": []
    }
  ],
  "metadata": {
    "colab": {
      "provenance": []
    },
    "kernelspec": {
      "display_name": "Python 3",
      "name": "python3"
    },
    "language_info": {
      "name": "python"
    }
  },
  "nbformat": 4,
  "nbformat_minor": 0
}